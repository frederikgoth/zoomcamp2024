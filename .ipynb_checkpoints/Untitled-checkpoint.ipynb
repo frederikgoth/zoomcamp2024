{
 "cells": [
  {
   "cell_type": "code",
   "execution_count": 1,
   "id": "3184b871-b1ed-4054-8bac-43e9bea08e97",
   "metadata": {},
   "outputs": [
    {
     "name": "stdout",
     "output_type": "stream",
     "text": [
      "Hello World in CodeSpaces!\n"
     ]
    }
   ],
   "source": [
    "print('Hello World in CodeSpaces!')"
   ]
  },
  {
   "cell_type": "code",
   "execution_count": null,
   "id": "d39de76c-24e0-49c7-908f-374a0442ad21",
   "metadata": {},
   "outputs": [],
   "source": []
  }
 ],
 "metadata": {
  "kernelspec": {
   "display_name": "Python 3 (ipykernel)",
   "language": "python",
   "name": "python3"
  },
  "language_info": {
   "codemirror_mode": {
    "name": "ipython",
    "version": 3
   },
   "file_extension": ".py",
   "mimetype": "text/x-python",
   "name": "python",
   "nbconvert_exporter": "python",
   "pygments_lexer": "ipython3",
   "version": "3.10.13"
  }
 },
 "nbformat": 4,
 "nbformat_minor": 5
}
